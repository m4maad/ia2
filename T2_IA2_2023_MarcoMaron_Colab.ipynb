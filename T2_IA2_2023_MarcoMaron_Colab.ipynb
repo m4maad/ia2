{
  "nbformat": 4,
  "nbformat_minor": 0,
  "metadata": {
    "colab": {
      "provenance": [],
      "authorship_tag": "ABX9TyPKlByTU9xYs3hlhuNe+inL",
      "include_colab_link": true
    },
    "kernelspec": {
      "name": "python3",
      "display_name": "Python 3"
    },
    "language_info": {
      "name": "python"
    }
  },
  "cells": [
    {
      "cell_type": "markdown",
      "metadata": {
        "id": "view-in-github",
        "colab_type": "text"
      },
      "source": [
        "<a href=\"https://colab.research.google.com/github/m4maad/ia2/blob/main/T2_IA2_2023_MarcoMaron_Colab.ipynb\" target=\"_parent\"><img src=\"https://colab.research.google.com/assets/colab-badge.svg\" alt=\"Open In Colab\"/></a>"
      ]
    },
    {
      "cell_type": "markdown",
      "source": [
        "**Trabalho prático IA2**"
      ],
      "metadata": {
        "id": "sf7MIZiyN0gJ"
      }
    },
    {
      "cell_type": "markdown",
      "source": [
        "**Criando o Perceptron**"
      ],
      "metadata": {
        "id": "wAFcoLgFN5at"
      }
    },
    {
      "cell_type": "code",
      "source": [
        "#Atividade de 1 a 4 - Inicializa os Pesos e Bias, Defina as funções de treinamento, Calcule o output do perceptron, Crie uma função simples para calcular acurácia\n",
        "import numpy as np\n",
        "import matplotlib.pyplot as plt\n",
        "\n",
        "class Perceptron:\n",
        "    def __init__(self, alpha=0.1, epochs=10):\n",
        "        np.random.seed(1)\n",
        "        self.alpha = alpha\n",
        "        self.epochs = epochs\n",
        "        self.weights = None\n",
        "        self.bias = None\n",
        "\n",
        "    def fit(self, X, Y):\n",
        "        n_samples, n_features = X.shape\n",
        "        self.weights = 2 * np.random.rand(n_features) - 1\n",
        "        self.bias = 2 * np.random.rand() - 1\n",
        "\n",
        "        for epoch in range(self.epochs):\n",
        "            for x_i, y_esperado in zip(X, Y):\n",
        "                y_pred = self.predict(x_i)\n",
        "                erro = y_esperado - y_pred\n",
        "                self.weights += self.alpha * erro * x_i\n",
        "                self.bias += self.alpha * erro\n",
        "\n",
        "    def predict(self, X):\n",
        "        signal = np.dot(X, self.weights) + self.bias\n",
        "        output = self.activation(signal)\n",
        "        return output\n",
        "\n",
        "    def activation(self, signal):\n",
        "        return np.where(signal >= 0, 1, 0)\n",
        "\n",
        "def accuracy(y_true, y_pred):\n",
        "    hits = 0\n",
        "    for true, pred in zip(y_true, y_pred):\n",
        "        if true == pred:\n",
        "            hits += 1\n",
        "    result = hits / len(y_true)\n",
        "    return result\n",
        "\n",
        "# Exemplo de uso do Perceptron\n",
        "if __name__ == \"__main__\":\n",
        "    X = np.array([[0, 0], [0, 1], [1, 0], [1, 1]])\n",
        "    Y = np.array([0, 0, 0, 1])\n",
        "\n",
        "    perceptron = Perceptron(alpha=0.1, epochs=10)\n",
        "    perceptron.fit(X, Y)\n",
        "    predictions = [perceptron.predict(x) for x in X]\n",
        "\n",
        "    accuracy_value = accuracy(Y, predictions)\n",
        "    print(\"Acurácia:\", accuracy_value)"
      ],
      "metadata": {
        "colab": {
          "base_uri": "https://localhost:8080/",
          "height": 0
        },
        "id": "aSGHyybreP3U",
        "outputId": "93c1f3d0-fa4c-4d02-bae3-c9202a79593a"
      },
      "execution_count": 139,
      "outputs": [
        {
          "output_type": "stream",
          "name": "stdout",
          "text": [
            "Acurácia: 1.0\n"
          ]
        }
      ]
    },
    {
      "cell_type": "code",
      "source": [
        "#Atividade de 1 a 4 - Inicialize os Pesos e Bias, Defina as funções de treinamento, Calcule o output do perceptron, Crie uma função simples para calcular acurácia (testando de outra forma)\n",
        "import numpy as np\n",
        "import matplotlib.pyplot as plt\n",
        "from sklearn.model_selection import train_test_split\n",
        "from sklearn import datasets\n",
        "\n",
        "# Classe Perceptron\n",
        "class Perceptron:\n",
        "\n",
        "  def __init__(self, alpha=0.1, epochs=10):\n",
        "    np.random.seed(1)\n",
        "    self.alpha = alpha\n",
        "    self.epochs = epochs\n",
        "    self.weights = None\n",
        "    self.bias = None\n",
        "\n",
        "  def fit(self, X, Y):\n",
        "    n_samples, n_features = X.shape\n",
        "    # Atividade 1: Inicialize os Pesos e Bias\n",
        "    self.weights = 2 * np.random.rand(n_features) - 1\n",
        "    self.bias = 2 * np.random.rand() - 1\n",
        "\n",
        "    for epoch in range(self.epochs):\n",
        "      for x_i, y_esperado in zip(X, Y):\n",
        "        # Atividade 2: Defina as funções de treinamento\n",
        "        y_pred = self.predict(x_i)\n",
        "        erro = y_esperado - y_pred\n",
        "        self.weights += self.alpha * erro * x_i\n",
        "        self.bias += self.alpha * erro\n",
        "\n",
        "  def predict(self, X):\n",
        "    # Atividade 3: Calcule o output do perceptron\n",
        "    signal = np.dot(X, self.weights) + self.bias\n",
        "    output = self.activation(signal)\n",
        "    return output\n",
        "\n",
        "  def activation(self, signal):\n",
        "    return np.where(signal >= 0, 1, 0)\n",
        "\n",
        "# Função para calcular a acurácia (Atividade 4)\n",
        "def accuracy(y_true, y_pred):\n",
        "    hits = np.sum(y_true == y_pred)\n",
        "    result = hits / len(y_true)\n",
        "    return result\n",
        "\n",
        "# Geração de dados de exemplo e separação em treinamento e teste\n",
        "X, y = datasets.make_blobs(\n",
        "    n_samples=150, n_features=2, centers=2, cluster_std=1.05, random_state=2\n",
        ")\n",
        "X_train, X_test, y_train, y_test = train_test_split(\n",
        "    X, y, test_size=0.2, random_state=123\n",
        ")\n",
        "\n",
        "# Treinamento e avaliação do perceptron\n",
        "p = Perceptron(alpha=0.01, epochs=10)\n",
        "p.fit(X_train, y_train)\n",
        "predictions = p.predict(X_test)\n",
        "\n",
        "# Cálculo da acurácia\n",
        "accc = accuracy(y_test, predictions)\n",
        "print(\"Perceptron classification accuracy:\", accc)\n",
        "\n",
        "# Visualização do problema\n",
        "fig = plt.figure()\n",
        "ax = fig.add_subplot(1, 1, 1)\n",
        "plt.scatter(X_train[:, 0], X_train[:, 1], marker=\"o\", c=y_train)\n",
        "\n",
        "x0_1 = np.amin(X_train[:, 0])\n",
        "x0_2 = np.amax(X_train[:, 0])\n",
        "\n",
        "x1_1 = (-p.weights[0] * x0_1 - p.bias) / p.weights[1]\n",
        "x1_2 = (-p.weights[0] * x0_2 - p.bias) / p.weights[1]\n",
        "\n",
        "ax.plot([x0_1, x0_2], [x1_1, x1_2], \"k\")\n",
        "\n",
        "ymin = np.amin(X_train[:, 1])\n",
        "ymax = np.amax(X_train[:, 1])\n",
        "ax.set_ylim([ymin - 3, ymax + 3])\n",
        "\n",
        "plt.show()\n"
      ],
      "metadata": {
        "colab": {
          "base_uri": "https://localhost:8080/",
          "height": 447
        },
        "id": "IVGIISB-eEGA",
        "outputId": "2c6e3298-80fd-4c05-eb01-cb9fb4a0139d"
      },
      "execution_count": 140,
      "outputs": [
        {
          "output_type": "stream",
          "name": "stdout",
          "text": [
            "Perceptron classification accuracy: 1.0\n"
          ]
        },
        {
          "output_type": "display_data",
          "data": {
            "text/plain": [
              "<Figure size 640x480 with 1 Axes>"
            ],
            "image/png": "[encoded data removed]"
          },
          "metadata": {}
        }
      ]
    },
    {
      "cell_type": "markdown",
      "source": [
        "**OCR: Reconhecimento Óptico de Caracteres**"
      ],
      "metadata": {
        "id": "v2OC018CRgHM"
      }
    },
    {
      "cell_type": "code",
      "source": [
        "#DATASET\n",
        "# download do dataset (training set images)\n",
        "!curl -O http://yann.lecun.com/exdb/mnist/train-images-idx3-ubyte.gz\n",
        "# download do dataset (training set labels)\n",
        "!curl -O http://yann.lecun.com/exdb/mnist/train-labels-idx1-ubyte.gz\n",
        "# download do dataset (testing set images)\n",
        "!curl -O http://yann.lecun.com/exdb/mnist/t10k-images-idx3-ubyte.gz\n",
        "# download do dataset (testing set labels)\n",
        "!curl -O http://yann.lecun.com/exdb/mnist/t10k-labels-idx1-ubyte.gz"
      ],
      "metadata": {
        "colab": {
          "base_uri": "https://localhost:8080/",
          "height": 0
        },
        "id": "sIUQyu-nbfTm",
        "outputId": "5263eedb-d413-42e2-c785-c3de43a47768"
      },
      "execution_count": 141,
      "outputs": [
        {
          "output_type": "stream",
          "name": "stdout",
          "text": [
            "  % Total    % Received % Xferd  Average Speed   Time    Time     Time  Current\n",
            "                                 Dload  Upload   Total   Spent    Left  Speed\n",
            "100 9680k  100 9680k    0     0  64.2M      0 --:--:-- --:--:-- --:--:-- 63.8M\n",
            "  % Total    % Received % Xferd  Average Speed   Time    Time     Time  Current\n",
            "                                 Dload  Upload   Total   Spent    Left  Speed\n",
            "100 28881  100 28881    0     0   613k      0 --:--:-- --:--:-- --:--:--  626k\n",
            "  % Total    % Received % Xferd  Average Speed   Time    Time     Time  Current\n",
            "                                 Dload  Upload   Total   Spent    Left  Speed\n",
            "100 1610k  100 1610k    0     0  20.9M      0 --:--:-- --:--:-- --:--:-- 21.2M\n",
            "  % Total    % Received % Xferd  Average Speed   Time    Time     Time  Current\n",
            "                                 Dload  Upload   Total   Spent    Left  Speed\n",
            "100  4542  100  4542    0     0   136k      0 --:--:-- --:--:-- --:--:--  138k\n"
          ]
        }
      ]
    },
    {
      "cell_type": "code",
      "source": [
        "# Extrair arquivos\n",
        "!gunzip *"
      ],
      "metadata": {
        "colab": {
          "base_uri": "https://localhost:8080/",
          "height": 0
        },
        "id": "PnTpudPObfEH",
        "outputId": "cccf8514-65ad-4685-e008-95ccc3d04969"
      },
      "execution_count": 142,
      "outputs": [
        {
          "output_type": "stream",
          "name": "stdout",
          "text": [
            "gzip: sample_data is a directory -- ignored\n",
            "gzip: t10k-images-idx3-ubyte: unknown suffix -- ignored\n",
            "gzip: t10k-images-idx3-ubyte already exists; do you wish to overwrite (y or n)? y\n",
            "gzip: t10k-labels-idx1-ubyte: unknown suffix -- ignored\n",
            "gzip: t10k-labels-idx1-ubyte already exists; do you wish to overwrite (y or n)? y\n",
            "gzip: train-images-idx3-ubyte: unknown suffix -- ignored\n",
            "gzip: train-images-idx3-ubyte already exists; do you wish to overwrite (y or n)? y\n",
            "y\n",
            "gzip: train-labels-idx1-ubyte: unknown suffix -- ignored\n",
            "gzip: train-labels-idx1-ubyte already exists; do you wish to overwrite (y or n)? "
          ]
        }
      ]
    },
    {
      "cell_type": "code",
      "source": [
        "def bytes_to_int(byte_data):\n",
        "    return int.from_bytes(byte_data, 'big')\n",
        "\n",
        "def read_images(filename, n_max_images=None, show = False):\n",
        "    images = []\n",
        "    with open(filename, 'rb') as f:\n",
        "        _ = f.read(4)  # magic number\n",
        "        n_images = bytes_to_int(f.read(4))\n",
        "        if n_max_images:\n",
        "            n_images = n_max_images\n",
        "        n_rows = bytes_to_int(f.read(4))\n",
        "        n_columns = bytes_to_int(f.read(4))\n",
        "        for image_idx in range(n_images):\n",
        "            image = []\n",
        "            for row_idx in range(n_rows):\n",
        "                row = []\n",
        "                for col_idx in range(n_columns):\n",
        "                    if show:\n",
        "                        pixel = f.read(1)\n",
        "                    else:\n",
        "                        pixel = bytes_to_int(f.read(1))\n",
        "                    row.append(pixel)\n",
        "                image.append(row)\n",
        "            images.append(image)\n",
        "    return images\n",
        "\n",
        "def read_labels(filename, n_max_labels=None):\n",
        "    labels = []\n",
        "    with open(filename, 'rb') as f:\n",
        "        _ = f.read(4)  # magic number\n",
        "        n_labels = bytes_to_int(f.read(4))\n",
        "        if n_max_labels:\n",
        "            n_labels = n_max_labels\n",
        "        for label_idx in range(n_labels):\n",
        "            label = bytes_to_int(f.read(1))\n",
        "            labels.append(label)\n",
        "    return labels"
      ],
      "metadata": {
        "id": "Fo4k8Yhmfh0R"
      },
      "execution_count": 143,
      "outputs": []
    },
    {
      "cell_type": "code",
      "source": [
        "def flatten_list(l):\n",
        "    return [pixel for sublist in l for pixel in sublist]\n",
        "\n",
        "def extract_features(X):\n",
        "    return [flatten_list(sample) for sample in X]"
      ],
      "metadata": {
        "id": "91YyWSb9foGT"
      },
      "execution_count": 144,
      "outputs": []
    },
    {
      "cell_type": "code",
      "source": [
        "#Pré-Processamento\n",
        "TEST_DATA_FILENAME = 't10k-images-idx3-ubyte'\n",
        "TEST_LABELS_FILENAME = 't10k-labels-idx1-ubyte'\n",
        "TRAIN_DATA_FILENAME = 'train-images-idx3-ubyte'\n",
        "TRAIN_LABELS_FILENAME = 'train-labels-idx1-ubyte'\n",
        "\n",
        "n_train = 100 # Numero de imagens carregadas para treinamento\n",
        "n_test = 10 # Numero de imagens carregadas para teste\n",
        "\n",
        "x_train = read_images(TRAIN_DATA_FILENAME, n_train)\n",
        "y_train = np.array(read_labels(TRAIN_LABELS_FILENAME, n_train)).reshape(n_train,1)\n",
        "print(len(x_train[0]))\n",
        "print(len(x_train[0][0]))\n",
        "\n",
        "x_test = read_images(TEST_DATA_FILENAME, n_test)\n",
        "y_test = read_labels(TEST_LABELS_FILENAME, n_test)\n",
        "\n",
        "x_train = np.array(extract_features(x_train))/255 # Transformando em numpy array e normalizando (valores entre 0 e 1)\n",
        "x_test = np.array(extract_features(x_test))/255 # Transformando em numpy array e normalizando (valores entre 0 e 1)\n",
        "print(len(x_train[0]))\n"
      ],
      "metadata": {
        "colab": {
          "base_uri": "https://localhost:8080/",
          "height": 0
        },
        "id": "BYXBsNLhfwO3",
        "outputId": "ce0995dd-a52e-4314-f032-518196c58372"
      },
      "execution_count": 145,
      "outputs": [
        {
          "output_type": "stream",
          "name": "stdout",
          "text": [
            "28\n",
            "28\n",
            "784\n"
          ]
        }
      ]
    },
    {
      "cell_type": "code",
      "source": [
        "#Visualização\n",
        "from PIL import Image\n",
        "\n",
        "sample_images = read_images(TEST_DATA_FILENAME, 16, show=True)\n",
        "sample_labels = read_labels(TEST_LABELS_FILENAME, 16)\n",
        "plt.figure(figsize=(10, 10))\n",
        "for idx, test_sample in enumerate(sample_images):\n",
        "    img = Image.fromarray(np.array(test_sample), 'L')\n",
        "    ax = plt.subplot(4, 4, idx + 1)\n",
        "    plt.imshow(img)\n",
        "    plt.title(int(sample_labels[idx]))\n",
        "    plt.axis(\"off\")"
      ],
      "metadata": {
        "colab": {
          "base_uri": "https://localhost:8080/",
          "height": 829
        },
        "id": "89Aw49mDf3Ne",
        "outputId": "669e2d2d-4d96-4be8-905e-a3dc52bb8e48"
      },
      "execution_count": 146,
      "outputs": [
        {
          "output_type": "display_data",
          "data": {
            "text/plain": [
              "<Figure size 1000x1000 with 16 Axes>"
            ],
            "image/png": "[encoded data removed]"
          },
          "metadata": {}
        }
      ]
    },
    {
      "cell_type": "markdown",
      "source": [
        "\n",
        "\n",
        "\n",
        "\n",
        "\n",
        "\n",
        "\n",
        "\n",
        "\n",
        "\n"
      ],
      "metadata": {
        "id": "auCttvGoVoen"
      }
    },
    {
      "cell_type": "code",
      "source": [
        "#MODELAGEM\n",
        "#Perceptron classificador de 1s\n",
        "P = Perceptron(alpha=0.1, epochs=50)\n",
        "\n",
        "# Formate as labels de treinamento\n",
        "y_formatado = np.array([1 if label == 1 else 0 for label in y_train])\n",
        "\n",
        "# Treine a rede\n",
        "P.fit(x_train, y_formatado)\n",
        "\n",
        "# Gere o vetor de predições\n",
        "predictions = P.predict(x_test)\n",
        "\n",
        "print(y_test)\n",
        "print(predictions)\n"
      ],
      "metadata": {
        "colab": {
          "base_uri": "https://localhost:8080/",
          "height": 0
        },
        "id": "SlODSmt2f9Zz",
        "outputId": "75e73a99-0194-489d-8087-9b84728a0136"
      },
      "execution_count": 147,
      "outputs": [
        {
          "output_type": "stream",
          "name": "stdout",
          "text": [
            "[7, 2, 1, 0, 4, 1, 4, 9, 5, 9]\n",
            "[0 0 1 0 0 1 0 0 0 0]\n"
          ]
        }
      ]
    },
    {
      "cell_type": "code",
      "source": [
        "#Atividades 5 a 7\n",
        "#Formatar labels de treinamento [ATIVIDADE 5]\n",
        "# Função para formatar labels de treinamento\n",
        "def transform_labels(labels, target_class):\n",
        "    transformed_labels = [1 if label == target_class else 0 for label in labels]\n",
        "    return transformed_labels\n",
        "\n",
        "# Treinar Rede: [ATIVIDADE 6]\n",
        "def train_perceptron(alpha, epochs, x_train, transformed_train_labels):\n",
        "    perceptron = Perceptron(alpha=alpha, epochs=epochs)\n",
        "    perceptron.fit(x_train, transformed_train_labels)\n",
        "    return perceptron\n",
        "\n",
        "# Gerar vetor de predições: [ATIVIDADE 7]\n",
        "def generate_predictions(perceptron, x_test):\n",
        "    return perceptron.predict(x_test)\n",
        "\n",
        "# Lista de classes alvo (0 a 9)\n",
        "target_classes = list(range(10))\n",
        "\n",
        "# Lista para armazenar os perceptrons e suas predições\n",
        "perceptrons = []\n",
        "\n",
        "for target_class in target_classes:\n",
        "    # Transforme as labels de treinamento para a classe alvo atual\n",
        "    transformed_train_labels = transform_labels(y_train, target_class)\n",
        "\n",
        "    # Treine o perceptron\n",
        "    perceptron = train_perceptron(alpha=0.1, epochs=50, x_train=x_train, transformed_train_labels=transformed_train_labels)\n",
        "\n",
        "    # Gere o vetor de predições para o dígito atual\n",
        "    predictions_digit = generate_predictions(perceptron, x_test)\n",
        "\n",
        "    # Adicione o perceptron e suas predições à lista\n",
        "    perceptrons.append((perceptron, predictions_digit))\n",
        "\n",
        "    print(f\"Labels de teste para o dígito {target_class}:\")\n",
        "    print(y_test)\n",
        "    print(f\"Predições para o dígito {target_class}:\")\n",
        "    print(predictions_digit)\n",
        "\n",
        "\n"
      ],
      "metadata": {
        "id": "lg3qIzyJf9-X",
        "colab": {
          "base_uri": "https://localhost:8080/",
          "height": 0
        },
        "outputId": "cfe142c2-fb5d-4496-d488-675ff72641aa"
      },
      "execution_count": 148,
      "outputs": [
        {
          "output_type": "stream",
          "name": "stdout",
          "text": [
            "Labels de teste para o dígito 0:\n",
            "[7, 2, 1, 0, 4, 1, 4, 9, 5, 9]\n",
            "Predições para o dígito 0:\n",
            "[0 0 0 1 0 0 0 0 0 0]\n",
            "Labels de teste para o dígito 1:\n",
            "[7, 2, 1, 0, 4, 1, 4, 9, 5, 9]\n",
            "Predições para o dígito 1:\n",
            "[0 0 1 0 0 1 0 0 0 0]\n",
            "Labels de teste para o dígito 2:\n",
            "[7, 2, 1, 0, 4, 1, 4, 9, 5, 9]\n",
            "Predições para o dígito 2:\n",
            "[0 0 0 0 0 0 0 0 0 0]\n",
            "Labels de teste para o dígito 3:\n",
            "[7, 2, 1, 0, 4, 1, 4, 9, 5, 9]\n",
            "Predições para o dígito 3:\n",
            "[0 0 0 0 0 0 0 0 0 0]\n",
            "Labels de teste para o dígito 4:\n",
            "[7, 2, 1, 0, 4, 1, 4, 9, 5, 9]\n",
            "Predições para o dígito 4:\n",
            "[0 0 0 0 1 0 0 0 0 0]\n",
            "Labels de teste para o dígito 5:\n",
            "[7, 2, 1, 0, 4, 1, 4, 9, 5, 9]\n",
            "Predições para o dígito 5:\n",
            "[0 0 0 0 0 0 0 0 0 0]\n",
            "Labels de teste para o dígito 6:\n",
            "[7, 2, 1, 0, 4, 1, 4, 9, 5, 9]\n",
            "Predições para o dígito 6:\n",
            "[0 0 0 0 0 0 0 0 1 0]\n",
            "Labels de teste para o dígito 7:\n",
            "[7, 2, 1, 0, 4, 1, 4, 9, 5, 9]\n",
            "Predições para o dígito 7:\n",
            "[1 0 0 0 0 0 0 0 0 0]\n",
            "Labels de teste para o dígito 8:\n",
            "[7, 2, 1, 0, 4, 1, 4, 9, 5, 9]\n",
            "Predições para o dígito 8:\n",
            "[0 0 0 0 0 0 0 0 0 0]\n",
            "Labels de teste para o dígito 9:\n",
            "[7, 2, 1, 0, 4, 1, 4, 9, 5, 9]\n",
            "Predições para o dígito 9:\n",
            "[0 0 0 0 0 0 1 0 0 0]\n"
          ]
        }
      ]
    },
    {
      "cell_type": "code",
      "source": [
        "#Atividades 8 a 10\n",
        "P_list = []\n",
        "# Inicialize uma lista de 10 perceptrons: [ATIVIDADE 8]\n",
        "perceptrons = []\n",
        "\n",
        "# Número de classes alvo (0 a 9)\n",
        "num_classes = 10\n",
        "\n",
        "for target_class in range(num_classes):\n",
        "    # Transforme as labels de treinamento para a classe alvo atual\n",
        "    transformed_train_labels = transform_labels(y_train, target_class)\n",
        "\n",
        "    # Treine o perceptron\n",
        "    perceptron = train_perceptron(alpha=0.1, epochs=50, x_train=x_train, transformed_train_labels=transformed_train_labels)\n",
        "\n",
        "    # Adicione o perceptron à lista\n",
        "    perceptrons.append(perceptron)\n",
        "\n",
        "# Agora você tem uma lista de 10 perceptrons, um para cada classe alvo (0 a 9)\n",
        "\n",
        "# Loop de treinamento: [Atividade 9]\n",
        "# Número de classes alvo (0 a 9)\n",
        "epochs = 50\n",
        "\n",
        "# Inicialize uma lista de perceptrons\n",
        "perceptrons = [Perceptron(alpha=0.1, epochs=epochs) for _ in range(num_classes)]\n",
        "\n",
        "for target_class in range(num_classes):\n",
        "    # Transforme as labels de treinamento para a classe alvo atual\n",
        "    transformed_train_labels = transform_labels(y_train, target_class)\n",
        "\n",
        "    # Treine o perceptron correspondente à classe alvo\n",
        "    perceptrons[target_class].fit(x_train, transformed_train_labels)\n",
        "\n",
        "# Agora você tem uma lista de perceptrons treinados, um para cada classe alvo (0 a 9)\n",
        "\n",
        "\n",
        "\n",
        "predictions = []\n",
        "# Loop de predições: [Atividade 10]\n",
        "# Inicialize uma lista vazia para armazenar as previsões\n",
        "all_predictions = []\n",
        "\n",
        "for target_class in range(num_classes):\n",
        "    # Faça as previsões para a classe alvo atual usando o perceptron correspondente\n",
        "    predictions = perceptrons[target_class].predict(x_test)\n",
        "    all_predictions.append(predictions)\n",
        "\n",
        "# Agora você tem uma lista de previsões para cada classe alvo\n",
        "# Cada elemento da lista all_predictions corresponde às previsões do perceptron para a classe alvo correspondente (0 a 9).\n",
        "\n",
        "print(all_predictions)"
      ],
      "metadata": {
        "colab": {
          "base_uri": "https://localhost:8080/",
          "height": 0
        },
        "id": "H5yYeJSVC4hT",
        "outputId": "a3a482ca-95dd-43d3-bdbe-d804c5b59775"
      },
      "execution_count": 149,
      "outputs": [
        {
          "output_type": "stream",
          "name": "stdout",
          "text": [
            "[array([0, 0, 0, 1, 0, 0, 0, 0, 0, 0]), array([0, 1, 1, 0, 0, 1, 0, 0, 0, 0]), array([0, 1, 0, 0, 0, 0, 0, 0, 0, 0]), array([0, 0, 0, 0, 0, 0, 0, 0, 0, 0]), array([0, 0, 0, 0, 1, 0, 1, 1, 0, 0]), array([0, 0, 0, 0, 0, 0, 0, 0, 0, 0]), array([0, 0, 0, 0, 0, 0, 0, 0, 0, 0]), array([1, 0, 0, 0, 0, 0, 0, 0, 0, 0]), array([0, 0, 0, 0, 0, 0, 0, 0, 0, 0]), array([0, 0, 0, 0, 0, 0, 0, 0, 0, 1])]\n"
          ]
        }
      ]
    },
    {
      "cell_type": "code",
      "source": [
        "import numpy as np\n",
        "from sklearn import datasets\n",
        "\n",
        "# Classe Perceptron\n",
        "class Perceptron:\n",
        "\n",
        "    def __init__(self, alpha=0.1, epochs=10):\n",
        "        np.random.seed(1)\n",
        "        self.alpha = alpha\n",
        "        self.epochs = epochs\n",
        "        self.weights = None\n",
        "        self.bias = None\n",
        "\n",
        "    def fit(self, X, Y):\n",
        "        n_samples, n_features = X.shape\n",
        "        self.weights = 2 * np.random.rand(n_features) - 1\n",
        "        self.bias = 2 * np.random.rand() - 1\n",
        "\n",
        "        for epoch in range(self.epochs):\n",
        "            for x_i, y_esperado in zip(X, Y):\n",
        "                y_pred = self.predict(x_i)\n",
        "                erro = y_esperado - y_pred\n",
        "                self.weights += self.alpha * erro * x_i\n",
        "                self.bias += self.alpha * erro\n",
        "\n",
        "    def predict(self, X):\n",
        "        signal = np.dot(X, self.weights) + self.bias\n",
        "        output = self.activation(signal)\n",
        "        return output\n",
        "\n",
        "    def activation(self, signal):\n",
        "        return np.where(signal >= 0, 1, 0)\n",
        "\n",
        "# Função para calcular a acurácia\n",
        "def accuracy(y_true, y_pred):\n",
        "    hits = np.sum(y_true == y_pred)\n",
        "    result = hits / len(y_true)\n",
        "    return result\n",
        "\n",
        "# Função para transformar labels para a classe alvo\n",
        "def transform_labels(labels, target_class):\n",
        "    transformed_labels = [1 if label == target_class else 0 for label in labels]\n",
        "    return transformed_labels\n",
        "\n",
        "# Função para treinar um perceptron\n",
        "def train_perceptron(alpha, epochs, x_train, transformed_train_labels):\n",
        "    p = Perceptron(alpha=alpha, epochs=epochs)\n",
        "    p.fit(x_train, transformed_train_labels)\n",
        "    return p\n",
        "\n",
        "# Geração de dados de exemplo\n",
        "X, y = datasets.make_blobs(\n",
        "    n_samples=150, n_features=2, centers=2, cluster_std=1.05, random_state=2\n",
        ")\n",
        "\n",
        "# Treinamento de um perceptron para a classe alvo (0 a 9)\n",
        "num_classes = 10\n",
        "epochs = 50\n",
        "\n",
        "perceptrons = [train_perceptron(alpha=0.1, epochs=epochs, x_train=X, transformed_train_labels=transform_labels(y, target_class)) for target_class in range(num_classes)]\n",
        "\n",
        "# Realizar previsões para cada classe alvo\n",
        "all_predictions = []\n",
        "\n",
        "for target_class in range(num_classes):\n",
        "    predictions = perceptrons[target_class].predict(X)\n",
        "    all_predictions.append(predictions)\n",
        "\n",
        "# Combinar as previsões de todos os perceptrons\n",
        "combined_predictions = np.vstack(all_predictions).T\n",
        "predicted_labels = np.argmax(combined_predictions, axis=1)\n",
        "\n",
        "# Calcular a acurácia geral para todas as classes\n",
        "accuracies = accuracy(y, predicted_labels)\n",
        "\n",
        "# Imprimir a acurácia geral\n",
        "print(f\"Acurácia geral para todas as classes: {accuracies}\")\n",
        "\n"
      ],
      "metadata": {
        "colab": {
          "base_uri": "https://localhost:8080/",
          "height": 0
        },
        "id": "i6U58aB7R49o",
        "outputId": "4c6fb10d-e6a8-4ee2-e83c-b213b0731505"
      },
      "execution_count": 155,
      "outputs": [
        {
          "output_type": "stream",
          "name": "stdout",
          "text": [
            "Acurácia geral para todas as classes: 1.0\n"
          ]
        }
      ]
    },
    {
      "cell_type": "code",
      "source": [
        "# Atividade 11: Melhorar a Acuracia\n",
        "import numpy as np\n",
        "from sklearn.model_selection import train_test_split\n",
        "from sklearn import datasets\n",
        "\n",
        "# ...\n",
        "\n",
        "# Ajuste os hiperparâmetros\n",
        "n_epochs = 200  # Aumente o número de épocas\n",
        "alpha = 0.2  # Ajuste a taxa de aprendizado\n",
        "n_train = 200  # Aumente o tamanho do conjunto de treinamento\n",
        "\n",
        "# Geração de dados de exemplo e separação em treinamento e teste\n",
        "X, y = datasets.make_blobs(\n",
        "    n_samples=150, n_features=2, centers=2, cluster_std=1.05, random_state=2\n",
        ")\n",
        "X_train, X_test, y_train, y_test = train_test_split(\n",
        "    X, y, test_size=0.2, random_state=123\n",
        ")\n",
        "\n",
        "# Treinamento de múltiplos perceptrons, um para cada classe alvo (0 a 9)\n",
        "num_classes = 10\n",
        "\n",
        "perceptrons = [train_perceptron(alpha=alpha, epochs=n_epochs, x_train=X_train, transformed_train_labels=transform_labels(y_train, target_class)) for target_class in range(num_classes)]\n",
        "\n",
        "# Realizar previsões para cada classe alvo\n",
        "all_predictions = []\n",
        "\n",
        "for target_class in range(num_classes):\n",
        "    predictions = perceptrons[target_class].predict(X_test)\n",
        "    all_predictions.append(predictions)\n",
        "\n",
        "# Calcular a acurácia para cada classe alvo\n",
        "accuracies = []\n",
        "\n",
        "for target_class in range(num_classes):\n",
        "    transformed_test_labels = transform_labels(y_test, target_class)\n",
        "    acc = accuracy(transformed_test_labels, all_predictions[target_class])\n",
        "    accuracies.append(acc)\n",
        "\n",
        "# Calcular a acurácia geral\n",
        "overall_accuracy = sum(accuracies) / num_classes\n",
        "print(f\"Acurácia geral para todas as classes: {overall_accuracy}\")\n"
      ],
      "metadata": {
        "colab": {
          "base_uri": "https://localhost:8080/",
          "height": 0
        },
        "id": "p0S08fuWGTMq",
        "outputId": "7749c2b8-d901-4242-aac2-6fee750bfd16"
      },
      "execution_count": 157,
      "outputs": [
        {
          "output_type": "stream",
          "name": "stdout",
          "text": [
            "Acurácia geral para todas as classes: 1.0\n"
          ]
        }
      ]
    },
    {
      "cell_type": "code",
      "source": [
        "# Atividade 11\n",
        "import numpy as np\n",
        "import matplotlib.pyplot as plt\n",
        "from sklearn.model_selection import train_test_split\n",
        "from sklearn import datasets\n",
        "\n",
        "# Função sigmoid\n",
        "def sigmoid(x):\n",
        "    return 1 / (1 + np.exp(-x))\n",
        "\n",
        "# Classe Perceptron com sigmoid como função de ativação\n",
        "class PerceptronSigmoid:\n",
        "\n",
        "    def __init__(self, epochs=100):\n",
        "        np.random.seed(1)\n",
        "        self.epochs = epochs\n",
        "        self.weights = None\n",
        "        self.bias = None\n",
        "\n",
        "    def fit(self, X, Y):\n",
        "        n_samples, n_features = X.shape\n",
        "        self.weights = 2 * np.random.rand(n_features) - 1\n",
        "        self.bias = 2 * np.random.rand() - 1\n",
        "\n",
        "        for epoch in range(self.epochs):\n",
        "            for x_i, y_esperado in zip(X, Y):\n",
        "                y_pred = self.predict(x_i)\n",
        "                erro = y_esperado - y_pred\n",
        "                # Atualização dos pesos usando a função sigmoid\n",
        "                self.weights += erro * y_pred * (1 - y_pred) * x_i\n",
        "                self.bias += erro * y_pred * (1 - y_pred)\n",
        "\n",
        "    def predict(self, X):\n",
        "        signal = np.dot(X, self.weights) + self.bias\n",
        "        output = sigmoid(signal)\n",
        "        return output\n",
        "\n",
        "# Geração de dados de exemplo e separação em treinamento e teste\n",
        "X, y = datasets.make_blobs(\n",
        "    n_samples=150, n_features=2, centers=2, cluster_std=1.05, random_state=2\n",
        ")\n",
        "X_train, X_test, y_train, y_test = train_test_split(\n",
        "    X, y, test_size=0.2, random_state=123\n",
        ")\n",
        "\n",
        "# Treinamento e avaliação do Perceptron com sigmoid\n",
        "p_sigmoid = PerceptronSigmoid(epochs=100)\n",
        "p_sigmoid.fit(X_train, y_train)\n",
        "predictions_sigmoid = p_sigmoid.predict(X_test)\n",
        "\n",
        "# Função para calcular a acurácia\n",
        "def accuracy(y_true, y_pred):\n",
        "    hits = np.sum(y_true == (y_pred > 0.5))\n",
        "    result = hits / len(y_true)\n",
        "    return result\n",
        "\n",
        "# Cálculo da acurácia\n",
        "acc_sigmoid = accuracy(y_test, predictions_sigmoid)\n",
        "print(\"Perceptron with sigmoid accuracy:\", acc_sigmoid)\n",
        "\n",
        "# Visualização do problema\n",
        "fig = plt.figure()\n",
        "ax = fig.add_subplot(1, 1, 1)\n",
        "plt.scatter(X_train[:, 0], X_train[:, 1], marker=\"o\", c=y_train)\n",
        "\n",
        "x0_1 = np.amin(X_train[:, 0])\n",
        "x0_2 = np.amax(X_train[:, 0])\n",
        "\n",
        "x1_1 = (-p_sigmoid.weights[0] * x0_1 - p_sigmoid.bias) / p_sigmoid.weights[1]\n",
        "x1_2 = (-p_sigmoid.weights[0] * x0_2 - p_sigmoid.bias) / p_sigmoid.weights[1]\n",
        "\n",
        "ax.plot([x0_1, x0_2], [x1_1, x1_2], \"k\")\n",
        "\n",
        "ymin = np.amin(X_train[:, 1])\n",
        "ymax = np.amax(X_train[:, 1])\n",
        "ax.set_ylim([ymin - 3, ymax + 3])\n",
        "\n",
        "plt.show()\n"
      ],
      "metadata": {
        "colab": {
          "base_uri": "https://localhost:8080/",
          "height": 447
        },
        "id": "sp0EDL5ZGf-a",
        "outputId": "8895557e-4c35-4ecc-8368-2738345cd7a9"
      },
      "execution_count": 158,
      "outputs": [
        {
          "output_type": "stream",
          "name": "stdout",
          "text": [
            "Perceptron with sigmoid accuracy: 1.0\n"
          ]
        },
        {
          "output_type": "display_data",
          "data": {
            "text/plain": [
              "<Figure size 640x480 with 1 Axes>"
            ],
            "image/png": "[encoded data removed]"
          },
          "metadata": {}
        }
      ]
    },
    {
      "cell_type": "code",
      "source": [
        "# atividade 12\n",
        "def __init__(self, alpha=0.1, epochs=10):\n",
        "    np.random.seed(1)\n",
        "    self.alpha = alpha\n",
        "    self.epochs = epochs\n",
        "    self.weights = None\n",
        "    self.bias = None\n",
        "\n",
        "def fit(self, X, Y):\n",
        "    n_samples, n_features = X.shape\n",
        "    # Atividade 1: Inicialize os Pesos e Bias\n",
        "    self.weights = 2 * np.random.rand(n_features) - 1\n",
        "    self.bias = 2 * np.random.rand() - 1\n"
      ],
      "metadata": {
        "id": "P5j_ET2PKyex"
      },
      "execution_count": 125,
      "outputs": []
    },
    {
      "cell_type": "code",
      "source": [
        "#Atividade 13\n",
        "\n",
        "import numpy as np\n",
        "\n",
        "# Função Sigmoid\n",
        "def sigmoid(x):\n",
        "    return 1 / (1 + np.exp(-x))\n",
        "\n",
        "class PerceptronSigmoid:\n",
        "    def __init__(self, epochs=10):\n",
        "        np.random.seed(1)\n",
        "        self.epochs = epochs\n",
        "        self.weights = None\n",
        "        self.bias = None\n",
        "\n",
        "    def initialize_weights(self, n_features):\n",
        "        # Inicialize os pesos e bias aleatoriamente\n",
        "        self.weights = 2 * np.random.rand(n_features) - 1\n",
        "        self.bias = 2 * np.random.rand() - 1\n",
        "\n",
        "    def sigmoid_derivative(self, x):\n",
        "        # Calcule a derivada da função sigmoid\n",
        "        return sigmoid(x) * (1 - sigmoid(x))\n",
        "\n",
        "    def fit(self, X, Y):\n",
        "        n_samples, n_features = X.shape\n",
        "        self.initialize_weights(n_features)\n",
        "\n",
        "        for epoch in range(self.epochs):\n",
        "            for x_i, y_esperado in zip(X, Y):\n",
        "                signal = np.dot(x_i, self.weights) + self.bias\n",
        "                output = sigmoid(signal)\n",
        "\n",
        "                erro = y_esperado - output\n",
        "                delta = erro * self.sigmoid_derivative(output)\n",
        "\n",
        "                self.weights += delta * x_i\n",
        "                self.bias += delta\n",
        "\n",
        "    def predict(self, X):\n",
        "        signal = np.dot(X, self.weights) + self.bias\n",
        "        output = sigmoid(signal)\n",
        "        return output\n",
        "\n",
        "# Exemplo de uso:\n",
        "X = np.array([[0, 0], [0, 1], [1, 0], [1, 1]])\n",
        "Y = np.array([0, 1, 1, 1])\n",
        "\n",
        "p_sigmoid = PerceptronSigmoid(epochs=100)\n",
        "p_sigmoid.fit(X, Y)\n",
        "predictions = p_sigmoid.predict(X)\n",
        "print(predictions)\n"
      ],
      "metadata": {
        "colab": {
          "base_uri": "https://localhost:8080/",
          "height": 0
        },
        "id": "60H9iKL8LR65",
        "outputId": "6f598cf6-3cff-496a-d061-335ff1636f1c"
      },
      "execution_count": 127,
      "outputs": [
        {
          "output_type": "stream",
          "name": "stdout",
          "text": [
            "[0.17688404 0.92201593 0.91740053 0.99836618]\n"
          ]
        }
      ]
    },
    {
      "cell_type": "code",
      "source": [
        "# Atividade 14\n",
        "def predict(self, X):\n",
        "    # Calcule o valor de entrada (antes da função sigmoid) do perceptron\n",
        "    signal = np.dot(X, self.weights) + self.bias\n",
        "    # Calcule o output aplicando a função sigmoid\n",
        "    output = self.sigmoid(signal)\n",
        "    return output\n",
        "\n",
        "# Adicione a função sigmoid à sua classe PerceptronSigmoid\n",
        "def sigmoid(self, x):\n",
        "    return 1 / (1 + np.exp(-x))\n"
      ],
      "metadata": {
        "id": "RVz2h1DyLpzR"
      },
      "execution_count": 129,
      "outputs": []
    },
    {
      "cell_type": "code",
      "source": [
        "#Atividade 15\n",
        "import numpy as np\n",
        "\n",
        "class PerceptronSigmoid:\n",
        "\n",
        "    def __init__(self, epochs=100):\n",
        "        np.random.seed(1)\n",
        "        self.epochs = epochs\n",
        "        self.weights = None\n",
        "        self.bias = None\n",
        "\n",
        "    def sigmoid(self, x):\n",
        "        return 1 / (1 + np.exp(-x))\n",
        "\n",
        "    def initialize_weights(self, n_features):\n",
        "        self.weights = 2 * np.random.rand(n_features) - 1\n",
        "        self.bias = 2 * np.random.rand() - 1\n",
        "\n",
        "    def fit(self, X, Y):\n",
        "        n_samples, n_features = X.shape\n",
        "        self.initialize_weights(n_features)\n",
        "\n",
        "        for _ in range(self.epochs):\n",
        "            for x_i, y_esperado in zip(X, Y):\n",
        "                signal = np.dot(x_i, self.weights) + self.bias\n",
        "                output = self.sigmoid(signal)\n",
        "\n",
        "                erro = y_esperado - output\n",
        "                self.weights += erro * output * (1 - output) * x_i\n",
        "                self.bias += erro * output * (1 - output)\n",
        "\n",
        "    def predict(self, X):\n",
        "        results = []\n",
        "        for x_i in X:\n",
        "            signal = np.dot(x_i, self.weights) + self.bias\n",
        "            output = self.sigmoid(signal)\n",
        "            results.append(output)\n",
        "        return results\n"
      ],
      "metadata": {
        "id": "9vYgUb4_LsNK"
      },
      "execution_count": 132,
      "outputs": []
    },
    {
      "cell_type": "code",
      "source": [
        "import numpy as np\n",
        "\n",
        "# ... (seu código anterior)\n",
        "\n",
        "final_predictions = []\n",
        "\n",
        "# Loop de predições: [Atividade 16]\n",
        "for example in all_predictions:\n",
        "    predicted_class = np.argmax(example)  # Obtem o índice do maior valor na predição\n",
        "    final_predictions.append(predicted_class)\n",
        "\n",
        "# Agora o vetor final_predictions contém os índices correspondentes às previsões de classe para cada exemplo de teste.\n"
      ],
      "metadata": {
        "id": "u23dyD-rMGRU"
      },
      "execution_count": 133,
      "outputs": []
    },
    {
      "cell_type": "markdown",
      "source": [
        "**RESPOSTA 1:**\n",
        "\n",
        "**Para comparar o desempenho dos perceptrons com diferentes funções de ativação (degrau e sigmoid), você pode considerar métricas de avaliação, como acurácia, precisão, recall, F1-score ou matriz de confusão. Vou supor que estamos usando a acurácia para a comparação.**\n",
        "\n",
        "**Aqui está um exemplo de como você pode comparar o desempenho dos dois perceptrons:**\n",
        "\n",
        "**Suponha que você já possui os vetores de predições para ambos os perceptrons**\n",
        "\n",
        "**Calculando a acurácia para o perceptron com função de ativação degrau**\n",
        "\n",
        "accuracy_perceptron_degrau = accuracy(y_test, predictions_degrau)\n",
        "\n",
        "**Calculando a acurácia para o perceptron com função de ativação sigmoid**\n",
        "\n",
        "accuracy_perceptron_sigmoid = accuracy(y_test, predictions_sigmoid)\n",
        "\n",
        "**Comparando as acurácias**\n",
        "\n",
        "if accuracy_perceptron_degrau > accuracy_perceptron_sigmoid:\n",
        "\n",
        "    print(\"O perceptron com função de ativação degrau obteve melhor acurácia.\")\n",
        "\n",
        "elif accuracy_perceptron_degrau < accuracy_perceptron_sigmoid:\n",
        "\n",
        "    print(\"O perceptron com função de ativação sigmoid obteve melhor acurácia.\")\n",
        "\n",
        "else:\n",
        "\n",
        "    print(\"Ambos os perceptrons têm a mesma acurácia.\")\n",
        "    \n",
        "\n",
        "\n",
        "\n",
        "Nesse código, estamos calculando a acurácia para ambos os perceptrons e comparando os resultados. Isso permitirá que você determine qual dos perceptrons obteve um desempenho melhor com base na acurácia. Lembre-se de que você pode usar outras métricas de avaliação, se preferir."
      ],
      "metadata": {
        "id": "l8vT-2sAMTWR"
      }
    },
    {
      "cell_type": "markdown",
      "source": [
        "**RESPOSTA 2:**\n",
        "\n",
        "Para melhorar a acurácia de um perceptron ou de uma rede neural, você pode ajustar vários parâmetros e fatores relacionados ao treinamento do modelo. Alguns dos parâmetros e técnicas que podem ser modificados ou aplicados incluem:\n",
        "\n",
        "Taxa de Aprendizado (Learning Rate): Ajustar a taxa de aprendizado é uma das maneiras mais comuns de melhorar o desempenho de um perceptron. Valores adequados de taxa de aprendizado podem ajudar o modelo a convergir mais rapidamente e com mais precisão. Experimente diferentes valores para encontrar o melhor equilíbrio.\n",
        "\n",
        "Número de Épocas: Aumentar o número de épocas de treinamento pode permitir que o modelo aprenda mais com os dados, desde que não ocorra superajustamento (overfitting). No entanto, é importante encontrar o ponto em que o aumento das épocas não melhora mais a acurácia.\n",
        "\n",
        "Tamanho do Lote (Batch Size): O tamanho do lote afeta a frequência das atualizações dos pesos durante o treinamento. Experimente diferentes tamanhos de lote para ver qual funciona melhor para o seu conjunto de dados.\n",
        "\n",
        "Função de Ativação: Alterar a função de ativação, como degrau, sigmoid, ReLU, etc., pode afetar o desempenho. Alguns problemas se beneficiam de funções de ativação específicas. Teste diferentes funções para ver qual se adapta melhor ao seu problema.\n",
        "\n",
        "Inicialização de Pesos: A maneira como você inicializa os pesos pode influenciar a convergência do modelo. Experimente diferentes métodos de inicialização, como inicialização aleatória, inicialização Xavier (Glorot), inicialização de He, etc.\n",
        "\n",
        "Regularização: A adição de regularização L1 ou L2 pode ajudar a evitar o superajustamento e melhorar a generalização do modelo.\n",
        "\n",
        "Pré-processamento de Dados: Garanta que seus dados estejam devidamente pré-processados. Isso pode incluir normalização, padronização, tratamento de valores ausentes, etc.\n",
        "\n",
        "Engenharia de Recursos: Às vezes, a criação de recursos adicionais com base nos dados brutos pode ajudar o modelo a obter informações mais relevantes.\n",
        "\n",
        "Validação Cruzada: Use a validação cruzada para avaliar o desempenho do modelo e evitar o superajustamento. Isso ajudará a encontrar a melhor configuração de parâmetros.\n",
        "\n",
        "Arquitetura da Rede: Se você estiver trabalhando com redes neurais mais complexas, pode modificar a arquitetura da rede, adicionando camadas, neurônios, ou usando redes mais profundas.\n",
        "\n",
        "Aumento de Dados: Para conjuntos de dados menores, o aumento de dados (data augmentation) pode ser uma técnica útil para melhorar o desempenho, criando variações dos exemplos de treinamento.\n",
        "\n",
        "Lembre-se de que não existe uma solução única para todos os problemas. A otimização de hiperparâmetros é um processo empírico que envolve experimentação e ajuste fino. Você deve ajustar os parâmetros com base no seu conjunto de dados específico e na natureza do problema que está resolvendo."
      ],
      "metadata": {
        "id": "V0puDILeM3AR"
      }
    }
  ]
}